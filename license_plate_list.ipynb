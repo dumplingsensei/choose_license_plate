{
 "cells": [
  {
   "cell_type": "code",
   "execution_count": 1,
   "metadata": {},
   "outputs": [
    {
     "name": "stdout",
     "output_type": "stream",
     "text": [
      "All Special Plate Numbers:\n",
      "=========================\n",
      "1313  1327  1339  1367  1368  1372  1376  1386  1393  1926  \n",
      "1962  1967  1976  1978  2619  2626  2627  2628  2662  2667  \n",
      "2672  2676  2678  2682  2691  2713  2726  2727  2739  2762  \n",
      "2768  2772  2786  2793  2826  2862  2867  2876  2878  3913  \n",
      "3927  3967  3972  3976  6219  6226  6227  6228  6262  6267  \n",
      "6272  6276  6278  6282  6291  6713  6719  6726  6728  6739  \n",
      "6762  6782  6791  6793  6813  6827  6872  6878  7213  7226  \n",
      "7227  7239  7262  7268  7272  7286  7293  7613  7619  7626  \n",
      "7628  7639  7662  7682  7691  7693  7819  7826  7828  7862  \n",
      "7868  7882  7886  7891  8226  8262  8267  8276  8278  8613  \n",
      "8627  8672  8678  9126  9162  9167  9176  9178  9313  9327  \n",
      "9367  9372  9376  \n",
      "\n",
      "Total count: 113\n",
      "\n"
     ]
    }
   ],
   "source": [
    "def is_double_good(num):\n",
    "    first_two = str(num)[:2]\n",
    "    last_two = str(num)[2:]\n",
    "    good_count = 0\n",
    "    \n",
    "    for key, value in meanings1.items():\n",
    "        if first_two in key and \"『讚啦！』\" in value:\n",
    "            good_count += 1\n",
    "        if last_two in key and \"『讚啦！』\" in value:\n",
    "            good_count += 1\n",
    "    \n",
    "    return good_count == 2\n",
    "\n",
    "def is_sum_good(num):\n",
    "    digit_sum = sum(int(d) for d in str(num))\n",
    "    return \"『吉！』\" in meanings2.get(digit_sum, \"\")\n",
    "\n",
    "def contains_four(num):\n",
    "    return '4' in str(num)\n",
    "\n",
    "def find_special_plates():\n",
    "    special_plates = []\n",
    "    for num in range(1000, 10000):\n",
    "        if not contains_four(num) and is_double_good(num) and is_sum_good(num):\n",
    "            special_plates.append(num)\n",
    "    return special_plates\n",
    "\n",
    "def print_formatted_results(plates, title):\n",
    "    print(f\"{title}:\")\n",
    "    print(\"=\" * len(title))\n",
    "    for i, plate in enumerate(plates, 1):\n",
    "        print(f\"{plate:04d}\", end=\"  \")\n",
    "        if i % 10 == 0:\n",
    "            print() \n",
    "    if len(plates) % 10 != 0:\n",
    "        print()  \n",
    "    print(f\"\\nTotal count: {len(plates)}\")\n",
    "    print()\n",
    "\n",
    "meanings1 = {\n",
    "    ('13', '68', '72', '86', '27'): '『讚啦！』大財、神來之筆、天生聰穎、當老闆',\n",
    "    ('67', '93', '82', '76', '39', '28'): '『讚啦！』新的轉機、起死回生、有貴人、智慧、豁然開朗、EQ高、彈性大',\n",
    "    ('19', '26', '91', '78', '43', '62'): '『讚啦！』 獨當一面、生命力意志力極強、綿綿不絕、大將之風、大男(女)人主義、領導者',\n",
    "    ('87',): '『母湯！』 這諧音頗難聽的吧',\n",
    "    ('11', '22', '33', '55', '66', '77', '88', '99'): '『母湯！』 等待、蓄勢待發、臥虎藏龍、篡位、狀況延續',\n",
    "    ('16', '38', '29', '61', '83', '92'): '『母湯！』 人際感情婚姻之路不順、猶豫不決、判斷錯誤、桃花八卦指數高、與異性密友糾葛多',\n",
    "    ('17', '89', '46', '23', '71', '98', '32'): '『母湯！』 身體病痛、口舌之非、易逞強愛面子、口才好、衝動心計深',\n",
    "    ('12', '69', '37', '21', '96', '73'): '『母湯！』 起伏波動大、非富即貧兩極化、才華出眾、超級軍師、善謀略心思敏捷、常有意外出現、易碰上官司糾紛、際遇波折',\n",
    "    ('18', '79', '42', '36', '81', '97', '63'): '『母湯！』 陰柔、不循正軌、最極端、難以捉模、命運變化大、常主動造成分離',\n",
    "}\n",
    "\n",
    "meanings2 = {\n",
    "    1: '『吉！』繁榮發達，信用得固，萬人仰望，可獲成功。',\n",
    "    2: '『凶~』動搖不安，一榮一枯，一盛一衰，勞而無功。',\n",
    "    3: '『吉！』立身出世，有貴人助，天賜吉祥，四海名揚。',\n",
    "    5: '『吉！』陰陽和合，精神惀快，榮譽達利，一門興隆。',\n",
    "    6: '『吉！』萬寶集門，天降幸運，立志奮發，得成大功。',\n",
    "    7: '『吉！』精力旺盛，頭腦明敏，排除萬難，必獲成功。',\n",
    "    8: '『吉！』努力發達，貫徹志望，不忘進退，可期成功。',\n",
    "    9: '『凶~』雖抱奇才，有才無命，獨營無力，財利難望。',\n",
    "    10: '『凶~』烏雲遮月，暗淡無光，空費心力，徒勞無功。',\n",
    "    11: '『吉！』草木逢春，枝葉沾露，穩建著實，必得人望。',\n",
    "    12: '『凶~』薄弱無力，孤立無援，外祥內苦，謀事難成。',\n",
    "    13: '『吉！』天賦吉運，能得人望，善用智慧，必獲成功。',\n",
    "    15: '『吉！』謙恭做事，外得人和，大事成就，一門興隆。',\n",
    "    16: '『吉！』能獲眾望，成就大業，名利雙收，盟主四方。',\n",
    "    17: '『吉！』排除萬難，有貴人助，把握時機，可得成功。',\n",
    "    18: '『吉！』經商做事，順利昌隆，如能慎始，百事亨通。',\n",
    "    19: '『凶~』成功雖早，慎防虧空，內外不和，障礙重重。',\n",
    "    20: '『凶~』智高志大，歷盡艱難，焦心憂勞，進退兩難。',\n",
    "    21: '『吉！』先歷困苦，後得幸福，霜雪梅花，春來怒放。',\n",
    "    22: '『凶~』秋草逢霜，懷才不遇，憂愁怨苦，事不如意。',\n",
    "    23: '『吉！』旭日昇天，名顯四方，漸次進展，終成大業。',\n",
    "    25: '『吉！』天時地利，只久人和，講信修睦，即可成功。',\n",
    "    26: '『凶帶吉』波瀾起伏，千變萬化，凌駕萬難，必可成功。',\n",
    "    27: '『吉帶凶』一成一敗，一盛一衰，惟靠謹慎，可守成功。',\n",
    "    28: '『凶~』魚臨旱地，難逃惡運，此數大凶，不如更名。',\n",
    "    29: '『吉！』如龍得雲，青雲直上，智謀奮進，才略奏功。',\n",
    "    30: '『吉帶凶』吉凶參半，得失相伴，投機取巧，如賭一樣。',\n",
    "    31: '『吉！』此數大吉，名利雙收，漸進向上，大業成就。',\n",
    "    32: '『吉！』池中之龍，風雲際會，一躍上天，成功可望。',\n",
    "    33: '『吉！』意氣用事，人和必失，如能慎始，必可昌隆。',\n",
    "    35: '『吉！』處事嚴謹，進退保守，學智兼具，成就非凡。',\n",
    "    36: '『凶~』波瀾重疊，常陷窮困，動不如靜，有才無命。',\n",
    "}\n",
    "\n",
    "special_plates = find_special_plates()\n",
    "print_formatted_results(special_plates, \"All Special Plate Numbers\")"
   ]
  },
  {
   "cell_type": "code",
   "execution_count": 2,
   "metadata": {},
   "outputs": [
    {
     "name": "stdout",
     "output_type": "stream",
     "text": [
      "Symmetric Special Plate Numbers:\n",
      "===============================\n",
      "2662  2772  6226  7227  \n",
      "\n",
      "Total count: 4\n",
      "\n"
     ]
    }
   ],
   "source": [
    "def is_symmetric(num):\n",
    "    return str(num)[:2] == str(num)[2:][::-1]\n",
    "\n",
    "def find_symmetric_plates(plates):\n",
    "    return [plate for plate in plates if is_symmetric(plate)]\n",
    "\n",
    "symmetric_plates = find_symmetric_plates(special_plates)\n",
    "print_formatted_results(symmetric_plates, \"Symmetric Special Plate Numbers\")"
   ]
  },
  {
   "cell_type": "code",
   "execution_count": 3,
   "metadata": {},
   "outputs": [
    {
     "name": "stdout",
     "output_type": "stream",
     "text": [
      "Repeated Pattern Special Plate Numbers:\n",
      "======================================\n",
      "1313  2626  2727  6262  7272  \n",
      "\n",
      "Total count: 5\n",
      "\n"
     ]
    }
   ],
   "source": [
    "def has_repeated_pattern(num):\n",
    "    return str(num)[:2] == str(num)[2:]\n",
    "\n",
    "def find_repeated_pattern_plates(plates):\n",
    "    return [plate for plate in plates if has_repeated_pattern(plate)]\n",
    "\n",
    "repeated_pattern_plates = find_repeated_pattern_plates(special_plates)\n",
    "print_formatted_results(repeated_pattern_plates, \"Repeated Pattern Special Plate Numbers\")"
   ]
  },
  {
   "cell_type": "code",
   "execution_count": 8,
   "metadata": {},
   "outputs": [],
   "source": [
    "def has_six_nine(num):\n",
    "    return \"69\" in str(num)\n",
    "\n",
    "def find_has_six_nine_plates(plates):\n",
    "    return [plate for plate in plates if has_six_nine(plate)]"
   ]
  },
  {
   "cell_type": "code",
   "execution_count": 9,
   "metadata": {},
   "outputs": [
    {
     "name": "stdout",
     "output_type": "stream",
     "text": [
      "Has 69 Special Plate Numbers:\n",
      "============================\n",
      "2691  7691  7693  \n",
      "\n",
      "Total count: 3\n",
      "\n"
     ]
    }
   ],
   "source": [
    "has_six_nine_plates = find_has_six_nine_plates(special_plates)\n",
    "print_formatted_results(has_six_nine_plates, \"Has 69 Special Plate Numbers\")"
   ]
  },
  {
   "cell_type": "code",
   "execution_count": 13,
   "metadata": {},
   "outputs": [
    {
     "name": "stdout",
     "output_type": "stream",
     "text": [
      "Final plate list:\n",
      "================\n",
      "1313  2626  2662  2691  2727  2772  6226  6262  7227  7272  \n",
      "7691  7693  \n",
      "\n",
      "Total count: 12\n",
      "\n"
     ]
    }
   ],
   "source": [
    "final_plate = symmetric_plates + repeated_pattern_plates + has_six_nine_plates\n",
    "final_plate.sort()\n",
    "print_formatted_results(final_plate, \"Final plate list\")"
   ]
  },
  {
   "cell_type": "code",
   "execution_count": null,
   "metadata": {},
   "outputs": [],
   "source": []
  }
 ],
 "metadata": {
  "kernelspec": {
   "display_name": "py310",
   "language": "python",
   "name": "python3"
  },
  "language_info": {
   "codemirror_mode": {
    "name": "ipython",
    "version": 3
   },
   "file_extension": ".py",
   "mimetype": "text/x-python",
   "name": "python",
   "nbconvert_exporter": "python",
   "pygments_lexer": "ipython3",
   "version": "3.10.12"
  }
 },
 "nbformat": 4,
 "nbformat_minor": 2
}
